{
 "cells": [
  {
   "cell_type": "code",
   "execution_count": null,
   "metadata": {},
   "outputs": [],
   "source": [
    "!pip3 install --quiet tensorflow-text\n",
    "\n",
    "import csv\n",
    "import numpy as np\n",
    "import tensorflow as tf\n",
    "import tensorflow_hub as hub\n",
    "import tensorflow_text as text  # Imports TF ops for preprocessing.\n",
    "import pandas as pd\n",
    "\n",
    "def change_labels(x):\n",
    "    return 1 if x == \"spam\" else 0\n",
    "\n",
    "data = pd.read_csv(\n",
    "    \"./input/MatrixData.tsv\", sep=\"\\t\", quoting=csv.QUOTE_NONE, encoding=\"utf-8\"\n",
    ")\n",
    "\n",
    "# Remove unknown\n",
    "data.dropna(inplace=True)\n",
    "data[\"label\"] = data[\"label\"].apply(change_labels)\n",
    "\n",
    "# Remove stopwords\n",
    "#data[\"message\"] = data[\"message\"].apply(remove_stopwords)\n",
    "\n",
    "# Shuffle data\n",
    "data = data.sample(frac=1).reset_index(drop=True)\n",
    "\n",
    "# Split data into messages and label sets\n",
    "sentences = data[\"message\"].tolist()\n",
    "labels = data[\"label\"].tolist()\n",
    "\n",
    "# Separate out the sentences and labels into training and test sets\n",
    "# training_size = int(len(sentences) * 0.8)\n",
    "training_size = int(len(sentences) * 0.7)\n",
    "training_sentences = sentences[0:training_size]\n",
    "testing_sentences = sentences[training_size:]\n",
    "training_labels = labels[0:training_size]\n",
    "testing_labels = labels[training_size:]\n",
    "\n",
    "# Make labels into numpy arrays for use with the network later\n",
    "testing_labels_final = np.array(testing_labels)\n",
    "training_labels_final = np.array(training_labels)\n",
    "training_sentences_final = np.array(training_sentences)\n",
    "testing_sentences_final = np.array(testing_sentences)\n",
    "\n",
    "# Load the BERT encoder and preprocessing models\n",
    "preprocess = hub.load('https://tfhub.dev/tensorflow/bert_en_uncased_preprocess/3')\n",
    "bert = hub.load('https://tfhub.dev/google/electra_base/2')\n",
    "\n",
    "# Convert the sentences to bert inputs\n",
    "bert_inputs = preprocess(sentences)\n",
    "\n",
    "# Feed the inputs to the model to get the pooled and sequence outputs\n",
    "bert_outputs = bert(bert_inputs, training=False)\n",
    "pooled_output = bert_outputs['pooled_output']\n",
    "sequence_output = bert_outputs['sequence_output']\n",
    "\n",
    "print('\\nSentences:')\n",
    "print(sentences)\n",
    "print('\\nPooled output:')\n",
    "print(pooled_output)\n",
    "print('\\nSequence output:')\n",
    "print(sequence_output)\n"
   ]
  }
 ],
 "metadata": {
  "kernelspec": {
   "display_name": "Python 3.10.6 64-bit",
   "language": "python",
   "name": "python3"
  },
  "language_info": {
   "codemirror_mode": {
    "name": "ipython",
    "version": 3
   },
   "file_extension": ".py",
   "mimetype": "text/x-python",
   "name": "python",
   "nbconvert_exporter": "python",
   "pygments_lexer": "ipython3",
   "version": "3.10.6"
  },
  "orig_nbformat": 4,
  "vscode": {
   "interpreter": {
    "hash": "916dbcbb3f70747c44a77c7bcd40155683ae19c65e1c03b4aa3499c5328201f1"
   }
  }
 },
 "nbformat": 4,
 "nbformat_minor": 2
}
